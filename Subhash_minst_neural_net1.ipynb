{
  "nbformat": 4,
  "nbformat_minor": 0,
  "metadata": {
    "colab": {
      "provenance": [],
      "authorship_tag": "ABX9TyMSVc0fPz7mJvVsWlmyGVuD",
      "include_colab_link": true
    },
    "kernelspec": {
      "name": "python3",
      "display_name": "Python 3"
    },
    "language_info": {
      "name": "python"
    }
  },
  "cells": [
    {
      "cell_type": "markdown",
      "metadata": {
        "id": "view-in-github",
        "colab_type": "text"
      },
      "source": [
        "<a href=\"https://colab.research.google.com/github/subhashbs36/DeepLearning_Colab/blob/main/Subhash_minst_neural_net1.ipynb\" target=\"_parent\"><img src=\"https://colab.research.google.com/assets/colab-badge.svg\" alt=\"Open In Colab\"/></a>"
      ]
    },
    {
      "cell_type": "code",
      "execution_count": null,
      "metadata": {
        "id": "sfeKwd_-99ue"
      },
      "outputs": [],
      "source": [
        "#hide\n",
        "! [ -e /content ] && pip install -Uqq fastbook\n",
        "import fastbook\n",
        "fastbook.setup_book()"
      ]
    },
    {
      "cell_type": "code",
      "source": [
        "#hide\n",
        "from fastai.vision.all import *\n",
        "from fastbook import *\n",
        "\n",
        "matplotlib.rc('image', cmap='Greys')"
      ],
      "metadata": {
        "id": "ZzSvnGHl-Fgm"
      },
      "execution_count": null,
      "outputs": []
    },
    {
      "cell_type": "code",
      "source": [
        "path = untar_data(URLs.MNIST_SAMPLE)\n"
      ],
      "metadata": {
        "id": "CdThV626-FdG"
      },
      "execution_count": null,
      "outputs": []
    },
    {
      "cell_type": "code",
      "source": [
        "#hide\n",
        "Path.BASE_PATH = path"
      ],
      "metadata": {
        "id": "Gn89Sv5R-Fay"
      },
      "execution_count": null,
      "outputs": []
    },
    {
      "cell_type": "code",
      "source": [
        "threes = (path/'train'/'3').ls().sorted()\n",
        "sevens = (path/'train'/'7').ls().sorted()\n",
        "threes"
      ],
      "metadata": {
        "id": "R5z7W4qG-3SX"
      },
      "execution_count": null,
      "outputs": []
    },
    {
      "cell_type": "code",
      "source": [
        "valid_threes = (path/'valid'/'3').ls().sorted()\n",
        "valid_sevens = (path/'valid'/'7').ls().sorted()\n",
        "valid_threes"
      ],
      "metadata": {
        "id": "4gCHyIdB-3Pn"
      },
      "execution_count": null,
      "outputs": []
    },
    {
      "cell_type": "code",
      "source": [
        "stacked_threes = torch.stack([tensor(Image.open(i)) for i in threes]).float()/255\n",
        "stacked_sevens = torch.stack([tensor(Image.open(i)) for i in sevens]).float()/255"
      ],
      "metadata": {
        "id": "BrmT8OYj-3Mq"
      },
      "execution_count": null,
      "outputs": []
    },
    {
      "cell_type": "code",
      "source": [
        "stacked_valid_threes = torch.stack([tensor(Image.open(i)) for i in valid_threes]).float()/255\n",
        "stacked_valid_sevens = torch.stack([tensor(Image.open(i)) for i in valid_sevens]).float()/255"
      ],
      "metadata": {
        "id": "cwECROcr-736"
      },
      "execution_count": null,
      "outputs": []
    },
    {
      "cell_type": "code",
      "source": [
        "x_train = torch.cat([stacked_threes, stacked_sevens]).view(-1, 28*28)\n",
        "y_train = tensor([1]*len(threes) + [0]*len(sevens)).unsqueeze(1)\n",
        "x_train.shape, y_train.shape"
      ],
      "metadata": {
        "id": "UxUv6Zp2-7rn"
      },
      "execution_count": null,
      "outputs": []
    },
    {
      "cell_type": "code",
      "source": [
        "x_valid = torch.cat([stacked_valid_threes, stacked_valid_sevens]).view(-1, 28*28)\n",
        "y_valid = tensor([1]*len(valid_threes) + [0]*valid_sevens).unsqueeze(1)\n",
        "x_valid.shape, y_valid.shape"
      ],
      "metadata": {
        "id": "NNxrtgGf-7o3"
      },
      "execution_count": null,
      "outputs": []
    },
    {
      "cell_type": "code",
      "source": [
        "dset = list(zip(x_train, y_train))\n",
        "valid_dset = list(zip(x_valid, y_valid))\n",
        "\n",
        "dl = DataLoader(dset, batch_size=256)\n",
        "valid_dl = DataLoader(valid_dset, batch_size=256)"
      ],
      "metadata": {
        "id": "cO4OfXVG_LOK"
      },
      "execution_count": null,
      "outputs": []
    },
    {
      "cell_type": "code",
      "source": [],
      "metadata": {
        "id": "BIdrVFRt_LLH"
      },
      "execution_count": null,
      "outputs": []
    },
    {
      "cell_type": "code",
      "source": [
        "linear_model = nn.Linear(28*28, 1)\n",
        "lr = 0.01"
      ],
      "metadata": {
        "id": "cSTIF__X-FYO"
      },
      "execution_count": null,
      "outputs": []
    },
    {
      "cell_type": "code",
      "source": [
        "def mnist_loss(predicted, target):\n",
        "  predicted = predicted.sigmoid()\n",
        "  return torch.where(target==1, 1-predicted, predicted).mean()"
      ],
      "metadata": {
        "id": "oG1xRDwI-FVe"
      },
      "execution_count": null,
      "outputs": []
    },
    {
      "cell_type": "code",
      "source": [
        "class basicOpti():\n",
        "  def __init__(self, params, lr):\n",
        "    self.params = params\n",
        "    self.lr = lr\n",
        "\n",
        "  def step(self):\n",
        "    for p in self.params:\n",
        "      p.data -= p.grad * self.lr\n",
        "\n",
        "  def zero_grad(self):\n",
        "    for p in self.params:\n",
        "      p.grad.zero_()"
      ],
      "metadata": {
        "id": "Hr6YwVnr-FS9"
      },
      "execution_count": null,
      "outputs": []
    },
    {
      "cell_type": "code",
      "source": [
        "def calc_grad(xb, yb, model):\n",
        "  pred = model(xb)\n",
        "  loss = mnist_loss(pred, yb)\n",
        "  loss.backward()"
      ],
      "metadata": {
        "id": "uAJti3sZ-FQP"
      },
      "execution_count": null,
      "outputs": []
    },
    {
      "cell_type": "code",
      "source": [
        "def batch_accuracy(xa, ya):\n",
        "  predicted = xa.sigmoid()\n",
        "  correct = (predicted>0.5) == ya\n",
        "  return correct.float.mean()"
      ],
      "metadata": {
        "id": "eZcdVTRA-FNZ"
      },
      "execution_count": null,
      "outputs": []
    },
    {
      "cell_type": "code",
      "source": [
        "optimizer = basicOpti(linear_model.parameters(), lr)"
      ],
      "metadata": {
        "id": "s0yD-mg9-olH"
      },
      "execution_count": null,
      "outputs": []
    },
    {
      "cell_type": "code",
      "source": [
        "def train_epoch(model):\n",
        "  for xa, ya in dl:\n",
        "    calc_grad(xa, ya, model)\n",
        "    optimizer.step()\n",
        "    optimizer.zero_grad()"
      ],
      "metadata": {
        "id": "tfvuOG5S-oh-"
      },
      "execution_count": null,
      "outputs": []
    },
    {
      "cell_type": "code",
      "source": [
        "def validate_epoch(model):\n",
        "  accuracy = [batch_accuracy(model(xa), ya) for xa, ya in valid_dl]\n",
        "  return round(torch.stack(accuracy).mean().item(), 4)"
      ],
      "metadata": {
        "id": "fWpAkgZQ-oe8"
      },
      "execution_count": null,
      "outputs": []
    },
    {
      "cell_type": "code",
      "source": [
        "def train_model(model, epochs):\n",
        "  for epoch in epochs:\n",
        "    train_epoch(model)\n",
        "    print(validate_epoch(model), end=' ')"
      ],
      "metadata": {
        "id": "bAmsSXP--obw"
      },
      "execution_count": null,
      "outputs": []
    },
    {
      "cell_type": "code",
      "source": [],
      "metadata": {
        "id": "_bzPqykt-oYB"
      },
      "execution_count": null,
      "outputs": []
    },
    {
      "cell_type": "code",
      "source": [],
      "metadata": {
        "id": "tjyYmDRh-oT1"
      },
      "execution_count": null,
      "outputs": []
    }
  ]
}